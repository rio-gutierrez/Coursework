{
 "cells": [
  {
   "cell_type": "code",
   "execution_count": 15,
   "id": "693a2e4a",
   "metadata": {},
   "outputs": [],
   "source": [
    "from sympy import *\n",
    "import numpy as np\n",
    "from matplotlib import pyplot as plt\n",
    "# from jupyterthemes import jtplot\n",
    "# jtplot.style()"
   ]
  },
  {
   "cell_type": "code",
   "execution_count": 2,
   "id": "62106927",
   "metadata": {},
   "outputs": [],
   "source": [
    "var(('h', 'dt', 'U', 'B_x', 'B_y', 'E_x', 'E_y', 'omega', 'x', 'c'))\n",
    "\n",
    "A = Matrix([ [0, 0, 0, 1], \n",
    "             [0, 0, -1, 0],\n",
    "             [0, -1, 0, 0],\n",
    "             [1, 0, 0, 0],\n",
    "           ])\n",
    "U = Matrix([\n",
    "            [B_x], \n",
    "            [B_y], \n",
    "            [E_x], \n",
    "            [E_y]\n",
    "            ])\n",
    "\n",
    "def rhs(u):\n",
    "    return A * u * I * sin(omega*h) / h"
   ]
  },
  {
   "cell_type": "code",
   "execution_count": 3,
   "id": "b92bea76",
   "metadata": {},
   "outputs": [
    {
     "data": {
      "text/latex": [
       "$\\displaystyle \\left[\\begin{matrix}\\frac{B_{x} dt^{4} \\sin^{4}{\\left(h \\omega \\right)}}{24 h^{4}} - \\frac{B_{x} dt^{2} \\sin^{2}{\\left(h \\omega \\right)}}{2 h^{2}} + B_{x} - \\frac{i E_{y} dt^{3} \\sin^{3}{\\left(h \\omega \\right)}}{6 h^{3}} + \\frac{i E_{y} dt \\sin{\\left(h \\omega \\right)}}{h}\\\\\\frac{B_{y} dt^{4} \\sin^{4}{\\left(h \\omega \\right)}}{24 h^{4}} - \\frac{B_{y} dt^{2} \\sin^{2}{\\left(h \\omega \\right)}}{2 h^{2}} + B_{y} + \\frac{i E_{x} dt^{3} \\sin^{3}{\\left(h \\omega \\right)}}{6 h^{3}} - \\frac{i E_{x} dt \\sin{\\left(h \\omega \\right)}}{h}\\\\\\frac{i B_{y} dt^{3} \\sin^{3}{\\left(h \\omega \\right)}}{6 h^{3}} - \\frac{i B_{y} dt \\sin{\\left(h \\omega \\right)}}{h} + \\frac{E_{x} dt^{4} \\sin^{4}{\\left(h \\omega \\right)}}{24 h^{4}} - \\frac{E_{x} dt^{2} \\sin^{2}{\\left(h \\omega \\right)}}{2 h^{2}} + E_{x}\\\\- \\frac{i B_{x} dt^{3} \\sin^{3}{\\left(h \\omega \\right)}}{6 h^{3}} + \\frac{i B_{x} dt \\sin{\\left(h \\omega \\right)}}{h} + \\frac{E_{y} dt^{4} \\sin^{4}{\\left(h \\omega \\right)}}{24 h^{4}} - \\frac{E_{y} dt^{2} \\sin^{2}{\\left(h \\omega \\right)}}{2 h^{2}} + E_{y}\\end{matrix}\\right]$"
      ],
      "text/plain": [
       "Matrix([\n",
       "[ B_x*dt**4*sin(h*omega)**4/(24*h**4) - B_x*dt**2*sin(h*omega)**2/(2*h**2) + B_x - I*E_y*dt**3*sin(h*omega)**3/(6*h**3) + I*E_y*dt*sin(h*omega)/h],\n",
       "[ B_y*dt**4*sin(h*omega)**4/(24*h**4) - B_y*dt**2*sin(h*omega)**2/(2*h**2) + B_y + I*E_x*dt**3*sin(h*omega)**3/(6*h**3) - I*E_x*dt*sin(h*omega)/h],\n",
       "[ I*B_y*dt**3*sin(h*omega)**3/(6*h**3) - I*B_y*dt*sin(h*omega)/h + E_x*dt**4*sin(h*omega)**4/(24*h**4) - E_x*dt**2*sin(h*omega)**2/(2*h**2) + E_x],\n",
       "[-I*B_x*dt**3*sin(h*omega)**3/(6*h**3) + I*B_x*dt*sin(h*omega)/h + E_y*dt**4*sin(h*omega)**4/(24*h**4) - E_y*dt**2*sin(h*omega)**2/(2*h**2) + E_y]])"
      ]
     },
     "execution_count": 3,
     "metadata": {},
     "output_type": "execute_result"
    }
   ],
   "source": [
    "# apply RK4 routine\n",
    "K1 = rhs(U)\n",
    "K2 = rhs(U + dt/2 * K1)\n",
    "K3 = rhs(U + dt/2 * K2)\n",
    "K4 = rhs(U + dt * K3)\n",
    "U1 = U + dt/6 * (K1 + 2 * K2 + 2 * K3 + K4)\n",
    "\n",
    "# show U1, simplified\n",
    "U1.simplify()\n",
    "U1"
   ]
  },
  {
   "cell_type": "code",
   "execution_count": 4,
   "id": "5300d79a",
   "metadata": {},
   "outputs": [
    {
     "data": {
      "text/latex": [
       "$\\displaystyle \\left[\\begin{matrix}\\frac{c^{4} \\sin^{4}{\\left(x \\right)}}{24} - \\frac{c^{2} \\sin^{2}{\\left(x \\right)}}{2} + 1 & 0 & 0 & \\frac{i c \\left(- c^{2} \\sin^{2}{\\left(x \\right)} + 6\\right) \\sin{\\left(x \\right)}}{6}\\\\0 & \\frac{c^{4} \\sin^{4}{\\left(x \\right)}}{24} - \\frac{c^{2} \\sin^{2}{\\left(x \\right)}}{2} + 1 & \\frac{i c \\left(c^{2} \\sin^{2}{\\left(x \\right)} - 6\\right) \\sin{\\left(x \\right)}}{6} & 0\\\\0 & \\frac{i c \\left(c^{2} \\sin^{2}{\\left(x \\right)} - 6\\right) \\sin{\\left(x \\right)}}{6} & \\frac{c^{4} \\sin^{4}{\\left(x \\right)}}{24} - \\frac{c^{2} \\sin^{2}{\\left(x \\right)}}{2} + 1 & 0\\\\\\frac{i c \\left(- c^{2} \\sin^{2}{\\left(x \\right)} + 6\\right) \\sin{\\left(x \\right)}}{6} & 0 & 0 & \\frac{c^{4} \\sin^{4}{\\left(x \\right)}}{24} - \\frac{c^{2} \\sin^{2}{\\left(x \\right)}}{2} + 1\\end{matrix}\\right]$"
      ],
      "text/plain": [
       "Matrix([\n",
       "[c**4*sin(x)**4/24 - c**2*sin(x)**2/2 + 1,                                        0,                                        0,       I*c*(-c**2*sin(x)**2 + 6)*sin(x)/6],\n",
       "[                                       0, c**4*sin(x)**4/24 - c**2*sin(x)**2/2 + 1,        I*c*(c**2*sin(x)**2 - 6)*sin(x)/6,                                        0],\n",
       "[                                       0,        I*c*(c**2*sin(x)**2 - 6)*sin(x)/6, c**4*sin(x)**4/24 - c**2*sin(x)**2/2 + 1,                                        0],\n",
       "[      I*c*(-c**2*sin(x)**2 + 6)*sin(x)/6,                                        0,                                        0, c**4*sin(x)**4/24 - c**2*sin(x)**2/2 + 1]])"
      ]
     },
     "execution_count": 4,
     "metadata": {},
     "output_type": "execute_result"
    }
   ],
   "source": [
    "# get the coefficients\n",
    "coef_U0 = diff(U1,U[0])\n",
    "coef_U1 = diff(U1,U[1])\n",
    "coef_U2 = diff(U1,U[2])\n",
    "coef_U3 = diff(U1,U[3])\n",
    "\n",
    "# form the matrix\n",
    "m = Matrix( [ [coef_U0, coef_U1, coef_U2, coef_U3] ] )\n",
    "m = simplify(m.subs({dt : c * h, omega * h : x}))\n",
    "m"
   ]
  },
  {
   "cell_type": "code",
   "execution_count": 5,
   "id": "c8b18983",
   "metadata": {},
   "outputs": [
    {
     "name": "stdout",
     "output_type": "stream",
     "text": [
      "c**4*sin(x)**4/24 - c**2*sin(x)**2/2 - I*c*(c**2*sin(x)**2 - 6)*sin(x)/6 + 1\n",
      "c**4*sin(x)**4/24 - c**2*sin(x)**2/2 + I*c*(c**2*sin(x)**2 - 6)*sin(x)/6 + 1\n",
      "[c**4*sin(x)**4/24 - c**2*sin(x)**2/2 - I*c*(c**2*sin(x)**2 - 6)*sin(x)/6 + 1, c**4*sin(x)**4/24 - c**2*sin(x)**2/2 + I*c*(c**2*sin(x)**2 - 6)*sin(x)/6 + 1]\n"
     ]
    }
   ],
   "source": [
    "# get the eigenvalues\n",
    "evals=[]\n",
    "for key in m.eigenvals().keys():\n",
    "    print(key)\n",
    "    key.simplify() \n",
    "    evals.append(key)\n",
    "print(evals)"
   ]
  },
  {
   "cell_type": "code",
   "execution_count": 33,
   "id": "ceb09eed",
   "metadata": {},
   "outputs": [
    {
     "data": {
      "image/png": "[encoded data removed]",
      "text/plain": [
       "<Figure size 460.8x403.2 with 1 Axes>"
      ]
     },
     "metadata": {},
     "output_type": "display_data"
    }
   ],
   "source": [
    "# evaluate the eigenvalues for a given courant factor c\n",
    "f = evals[0].subs({c : 2.827}).simplify()\n",
    "g = lambdify(x, f)\n",
    "\n",
    "# output plot\n",
    "z_grid = np.linspace(0, 2*np.pi, 500, dtype=np.complex128)\n",
    "y_grid = np.abs(g(z_grid))\n",
    "x_grid = z_grid.real\n",
    "plt.plot(x_grid, y_grid)\n",
    "plt.show()\n",
    "\n",
    "# plt.savefig('Figures/vonNeumann_just_stable.pdf')\n",
    "# plt.savefig('Figures/vonNeumann_stable.pdf')\n",
    "# plt.savefig('Figures/vonNeumann_not_stable.pdf')"
   ]
  },
  {
   "cell_type": "code",
   "execution_count": null,
   "id": "17a45681",
   "metadata": {},
   "outputs": [],
   "source": []
  }
 ],
 "metadata": {
  "kernelspec": {
   "display_name": "Python 3 (ipykernel)",
   "language": "python",
   "name": "python3"
  },
  "language_info": {
   "codemirror_mode": {
    "name": "ipython",
    "version": 3
   },
   "file_extension": ".py",
   "mimetype": "text/x-python",
   "name": "python",
   "nbconvert_exporter": "python",
   "pygments_lexer": "ipython3",
   "version": "3.8.12"
  },
  "latex_envs": {
   "LaTeX_envs_menu_present": true,
   "autoclose": false,
   "autocomplete": false,
   "bibliofile": "biblio.bib",
   "cite_by": "apalike",
   "current_citInitial": 1,
   "eqLabelWithNumbers": true,
   "eqNumInitial": 1,
   "hotkeys": {
    "equation": "Ctrl-E",
    "itemize": "Ctrl-I"
   },
   "labels_anchors": false,
   "latex_user_defs": false,
   "report_style_numbering": true,
   "user_envs_cfg": false
  }
 },
 "nbformat": 4,
 "nbformat_minor": 5
}
